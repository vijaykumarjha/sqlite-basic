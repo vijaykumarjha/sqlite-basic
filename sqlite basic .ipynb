{
 "cells": [
  {
   "cell_type": "code",
   "execution_count": 1,
   "metadata": {},
   "outputs": [],
   "source": [
    "import sqlite3"
   ]
  },
  {
   "cell_type": "code",
   "execution_count": 5,
   "metadata": {},
   "outputs": [],
   "source": [
    "conn = sqlite3.connect(r\"C:\\Users\\VIJAY KR JHA\\Desktop\\python\\jobs.db\")"
   ]
  },
  {
   "cell_type": "code",
   "execution_count": 6,
   "metadata": {},
   "outputs": [
    {
     "name": "stdout",
     "output_type": "stream",
     "text": [
      "[(0, 1, 2419, 'PETROLEUM ENGINEERING', 'Engineering', 2339, 36, 2057, 282, 0.120564344, 1976, 1849, 270, 1207, 37, 0.018380527, 110000, 95000, 125000, 1534, 364, 193), (1, 2, 2416, 'MINING AND MINERAL ENGINEERING', 'Engineering', 756, 7, 679, 77, 0.10185185199999999, 640, 556, 170, 388, 85, 0.117241379, 75000, 55000, 90000, 350, 257, 50)]\n"
     ]
    }
   ],
   "source": [
    "cursor = conn.cursor()\n",
    "# sql query as string\n",
    "query = \"select * from recent_grads;\"\n",
    "# execute the query, convert the results to tuples and store it as a local variable\n",
    "cursor.execute(query)\n",
    "results = cursor.fetchall()\n",
    "print(results[0:2])"
   ]
  },
  {
   "cell_type": "code",
   "execution_count": 10,
   "metadata": {},
   "outputs": [
    {
     "name": "stdout",
     "output_type": "stream",
     "text": [
      "[('PETROLEUM ENGINEERING',), ('MINING AND MINERAL ENGINEERING',), ('METALLURGICAL ENGINEERING',), ('NAVAL ARCHITECTURE AND MARINE ENGINEERING',), ('CHEMICAL ENGINEERING',)]\n"
     ]
    }
   ],
   "source": [
    "query1 = \"select Major from recent_grads;\"\n",
    "cursor.execute(query1)\n",
    "majors = cursor.fetchall()\n",
    "print(majors[:5])"
   ]
  },
  {
   "cell_type": "code",
   "execution_count": 17,
   "metadata": {},
   "outputs": [
    {
     "name": "stdout",
     "output_type": "stream",
     "text": [
      "[('Engineering',), ('Engineering',), ('Engineering',), ('Engineering',), ('Engineering',), ('Engineering',), ('Business',), ('Physical Sciences',), ('Engineering',), ('Engineering',)]\n"
     ]
    }
   ],
   "source": [
    "q2 = \"select Major_category from recent_grads;\"\n",
    "cursor.execute(q2)\n",
    "major_category = cursor.fetchall()\n",
    "print(major_category[:10])"
   ]
  },
  {
   "cell_type": "code",
   "execution_count": 21,
   "metadata": {},
   "outputs": [
    {
     "name": "stdout",
     "output_type": "stream",
     "text": [
      "[('PETROLEUM ENGINEERING', 'Engineering'), ('MINING AND MINERAL ENGINEERING', 'Engineering'), ('METALLURGICAL ENGINEERING', 'Engineering'), ('NAVAL ARCHITECTURE AND MARINE ENGINEERING', 'Engineering'), ('CHEMICAL ENGINEERING', 'Engineering')]\n"
     ]
    }
   ],
   "source": [
    "q3 = \"select Major, Major_category from recent_grads;\"\n",
    "five_results = conn.execute(q3).fetchmany(5)\n",
    "print(five_results)"
   ]
  },
  {
   "cell_type": "code",
   "execution_count": 22,
   "metadata": {},
   "outputs": [],
   "source": [
    "conn = sqlite3.connect(r\"C:\\Users\\VIJAY KR JHA\\Desktop\\python\\jobs.db\")"
   ]
  },
  {
   "cell_type": "code",
   "execution_count": 23,
   "metadata": {},
   "outputs": [],
   "source": [
    "conn.close()"
   ]
  },
  {
   "cell_type": "code",
   "execution_count": 25,
   "metadata": {},
   "outputs": [],
   "source": [
    "import sqlite3\n",
    "conn = sqlite3.connect(r\"C:\\Users\\VIJAY KR JHA\\Desktop\\python\\jobs2.db\")"
   ]
  },
  {
   "cell_type": "code",
   "execution_count": 26,
   "metadata": {},
   "outputs": [],
   "source": [
    "a = conn.execute(q3).fetchmany(5)"
   ]
  },
  {
   "cell_type": "code",
   "execution_count": 27,
   "metadata": {},
   "outputs": [
    {
     "name": "stdout",
     "output_type": "stream",
     "text": [
      "[('PETROLEUM ENGINEERING', 'Engineering'), ('MINING AND MINERAL ENGINEERING', 'Engineering'), ('METALLURGICAL ENGINEERING', 'Engineering'), ('NAVAL ARCHITECTURE AND MARINE ENGINEERING', 'Engineering'), ('CHEMICAL ENGINEERING', 'Engineering')]\n"
     ]
    }
   ],
   "source": [
    "print(a)"
   ]
  },
  {
   "cell_type": "code",
   "execution_count": 29,
   "metadata": {},
   "outputs": [
    {
     "name": "stdout",
     "output_type": "stream",
     "text": [
      "[('ZOOLOGY',), ('VISUAL AND PERFORMING ARTS',), ('UNITED STATES HISTORY',), ('TREATMENT THERAPY PROFESSIONS',), ('TRANSPORTATION SCIENCES AND TECHNOLOGIES',), ('THEOLOGY AND RELIGIOUS VOCATIONS',), ('TEACHER EDUCATION: MULTIPLE LEVELS',), ('STUDIO ARTS',), ('STATISTICS AND DECISION SCIENCE',), ('SPECIAL NEEDS EDUCATION',), ('SOIL SCIENCE',), ('SOCIOLOGY',), ('SOCIAL WORK',), ('SOCIAL SCIENCE OR HISTORY TEACHER EDUCATION',), ('SOCIAL PSYCHOLOGY',), ('SECONDARY TEACHER EDUCATION',), ('SCIENCE AND COMPUTER TEACHER EDUCATION',), ('SCHOOL STUDENT COUNSELING',), ('PUBLIC POLICY',), ('PUBLIC ADMINISTRATION',), ('PSYCHOLOGY',), ('PRE-LAW AND LEGAL STUDIES',), ('POLITICAL SCIENCE AND GOVERNMENT',), ('PLANT SCIENCE AND AGRONOMY',), ('PHYSIOLOGY',), ('PHYSICS',), ('PHYSICAL SCIENCES',), ('PHYSICAL FITNESS PARKS RECREATION AND LEISURE',), ('PHYSICAL AND HEALTH EDUCATION TEACHING',), ('PHILOSOPHY AND RELIGIOUS STUDIES',), ('PHARMACY PHARMACEUTICAL SCIENCES AND ADMINISTRATION',), ('PHARMACOLOGY',), ('PETROLEUM ENGINEERING',), ('OTHER FOREIGN LANGUAGES',), ('OPERATIONS LOGISTICS AND E-COMMERCE',), ('OCEANOGRAPHY',), ('NUTRITION SCIENCES',), ('NURSING',), ('NUCLEAR, INDUSTRIAL RADIOLOGY, AND BIOLOGICAL TECHNOLOGIES',), ('NUCLEAR ENGINEERING',), ('NEUROSCIENCE',), ('NAVAL ARCHITECTURE AND MARINE ENGINEERING',), ('NATURAL RESOURCES MANAGEMENT',), ('MUSIC',), ('MULTI/INTERDISCIPLINARY STUDIES',), ('MULTI-DISCIPLINARY OR GENERAL SCIENCE',), ('MOLECULAR BIOLOGY',), ('MISCELLANEOUS SOCIAL SCIENCES',), ('MISCELLANEOUS PSYCHOLOGY',), ('MISCELLANEOUS HEALTH MEDICAL PROFESSIONS',), ('MISCELLANEOUS FINE ARTS',), ('MISCELLANEOUS ENGINEERING TECHNOLOGIES',), ('MISCELLANEOUS ENGINEERING',), ('MISCELLANEOUS EDUCATION',), ('MISCELLANEOUS BUSINESS & MEDICAL ADMINISTRATION',), ('MISCELLANEOUS BIOLOGY',), ('MISCELLANEOUS AGRICULTURE',), ('MINING AND MINERAL ENGINEERING',), ('MILITARY TECHNOLOGIES',), ('MICROBIOLOGY',), ('METALLURGICAL ENGINEERING',), ('MEDICAL TECHNOLOGIES TECHNICIANS',), ('MEDICAL ASSISTING SERVICES',), ('MECHANICAL ENGINEERING RELATED TECHNOLOGIES',), ('MECHANICAL ENGINEERING',), ('MATHEMATICS TEACHER EDUCATION',), ('MATHEMATICS AND COMPUTER SCIENCE',), ('MATHEMATICS',), ('MATERIALS SCIENCE',), ('MATERIALS ENGINEERING AND MATERIALS SCIENCE',), ('MASS MEDIA',), ('MARKETING AND MARKETING RESEARCH',), ('MANAGEMENT INFORMATION SYSTEMS AND STATISTICS',), ('LINGUISTICS AND COMPARATIVE LANGUAGE AND LITERATURE',), ('LIBRARY SCIENCE',), ('LIBERAL ARTS',), ('LANGUAGE AND DRAMA EDUCATION',), ('JOURNALISM',), ('INTERNATIONAL RELATIONS',), ('INTERNATIONAL BUSINESS',), ('INTERDISCIPLINARY SOCIAL SCIENCES',), ('INTERCULTURAL AND INTERNATIONAL STUDIES',), ('INFORMATION SCIENCES',), ('INDUSTRIAL PRODUCTION TECHNOLOGIES',), ('INDUSTRIAL AND ORGANIZATIONAL PSYCHOLOGY',), ('INDUSTRIAL AND MANUFACTURING ENGINEERING',), ('HUMANITIES',), ('HUMAN SERVICES AND COMMUNITY ORGANIZATION',), ('HUMAN RESOURCES AND PERSONNEL MANAGEMENT',), ('HOSPITALITY MANAGEMENT',), ('HISTORY',), ('HEALTH AND MEDICAL PREPARATORY PROGRAMS',), ('HEALTH AND MEDICAL ADMINISTRATIVE SERVICES',), ('GEOSCIENCES',), ('GEOLOGY AND EARTH SCIENCE',), ('GEOLOGICAL AND GEOPHYSICAL ENGINEERING',), ('GEOGRAPHY',), ('GENETICS',), ('GENERAL SOCIAL SCIENCES',), ('GENERAL MEDICAL AND HEALTH SERVICES',), ('GENERAL ENGINEERING',), ('GENERAL EDUCATION',), ('GENERAL BUSINESS',), ('GENERAL AGRICULTURE',), ('FRENCH GERMAN LATIN AND OTHER COMMON FOREIGN LANGUAGE STUDIES',), ('FORESTRY',), ('FOOD SCIENCE',), ('FINE ARTS',), ('FINANCE',), ('FILM VIDEO AND PHOTOGRAPHIC ARTS',), ('FAMILY AND CONSUMER SCIENCES',), ('ENVIRONMENTAL SCIENCE',), ('ENVIRONMENTAL ENGINEERING',), ('ENGLISH LANGUAGE AND LITERATURE',), ('ENGINEERING TECHNOLOGIES',), ('ENGINEERING MECHANICS PHYSICS AND SCIENCE',), ('ENGINEERING AND INDUSTRIAL MANAGEMENT',), ('ELEMENTARY EDUCATION',), ('ELECTRICAL, MECHANICAL, AND PRECISION TECHNOLOGIES AND PRODUCTION',), ('ELECTRICAL ENGINEERING TECHNOLOGY',), ('ELECTRICAL ENGINEERING',), ('EDUCATIONAL PSYCHOLOGY',), ('EDUCATIONAL ADMINISTRATION AND SUPERVISION',), ('ECONOMICS',), ('ECOLOGY',), ('EARLY CHILDHOOD EDUCATION',), ('DRAMA AND THEATER ARTS',), ('CRIMINOLOGY',), ('CRIMINAL JUSTICE AND FIRE PROTECTION',), ('COURT REPORTING',), ('COUNSELING PSYCHOLOGY',), ('COSMETOLOGY SERVICES AND CULINARY ARTS',), ('CONSTRUCTION SERVICES',), ('COMPUTER SCIENCE',), ('COMPUTER PROGRAMMING AND DATA PROCESSING',), ('COMPUTER NETWORKING AND TELECOMMUNICATIONS',), ('COMPUTER ENGINEERING',), ('COMPUTER AND INFORMATION SYSTEMS',), ('COMPUTER ADMINISTRATION MANAGEMENT AND SECURITY',), ('COMPOSITION AND RHETORIC',), ('COMMUNITY AND PUBLIC HEALTH',), ('COMMUNICATIONS',), ('COMMUNICATION TECHNOLOGIES',), ('COMMUNICATION DISORDERS SCIENCES AND SERVICES',), ('COMMERCIAL ART AND GRAPHIC DESIGN',), ('COGNITIVE SCIENCE AND BIOPSYCHOLOGY',), ('CLINICAL PSYCHOLOGY',), ('CIVIL ENGINEERING',), ('CHEMISTRY',), ('CHEMICAL ENGINEERING',), ('BUSINESS MANAGEMENT AND ADMINISTRATION',), ('BUSINESS ECONOMICS',), ('BOTANY',), ('BIOMEDICAL ENGINEERING',), ('BIOLOGY',), ('BIOLOGICAL ENGINEERING',), ('BIOCHEMICAL SCIENCES',), ('ATMOSPHERIC SCIENCES AND METEOROLOGY',), ('ASTRONOMY AND ASTROPHYSICS',), ('ART HISTORY AND CRITICISM',), ('ART AND MUSIC EDUCATION',), ('AREA ETHNIC AND CIVILIZATION STUDIES',), ('ARCHITECTURE',), ('ARCHITECTURAL ENGINEERING',), ('APPLIED MATHEMATICS',), ('ANTHROPOLOGY AND ARCHEOLOGY',), ('ANIMAL SCIENCES',), ('AGRICULTURE PRODUCTION AND MANAGEMENT',), ('AGRICULTURAL ECONOMICS',), ('AEROSPACE ENGINEERING',), ('ADVERTISING AND PUBLIC RELATIONS',), ('ACTUARIAL SCIENCE',), ('ACCOUNTING',)]\n"
     ]
    }
   ],
   "source": [
    "import sqlite3\n",
    "conn = sqlite3.connect(r\"C:\\Users\\VIJAY KR JHA\\Desktop\\python\\jobs.db\")\n",
    "cursor = conn.cursor()\n",
    "q4 = \"select Major from recent_grads order by Major desc;\"\n",
    "reverse_alphabetical = cursor.execute(q4).fetchall()\n",
    "print(reverse_alphabetical)\n",
    "conn.close()"
   ]
  },
  {
   "cell_type": "code",
   "execution_count": null,
   "metadata": {},
   "outputs": [],
   "source": []
  }
 ],
 "metadata": {
  "kernelspec": {
   "display_name": "Python 3",
   "language": "python",
   "name": "python3"
  },
  "language_info": {
   "codemirror_mode": {
    "name": "ipython",
    "version": 3
   },
   "file_extension": ".py",
   "mimetype": "text/x-python",
   "name": "python",
   "nbconvert_exporter": "python",
   "pygments_lexer": "ipython3",
   "version": "3.7.1"
  }
 },
 "nbformat": 4,
 "nbformat_minor": 2
}
